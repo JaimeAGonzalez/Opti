{
 "cells": [
  {
   "cell_type": "markdown",
   "id": "7ac4f571-9dd8-4d69-8ad6-fbb6e4ac9f88",
   "metadata": {},
   "source": [
    "**Punto 1.a**\n",
    "\n",
    "Se tiene un sistema de 3 ecuaciones y 5 incognitas, por lo que primero se halla las posibilidades combinaciones de grupos donde cada una estrá definida por 3 variables. primero, se encuentra este sistema para posteriomente solucionarlo y hallar las bases:"
   ]
  },
  {
   "cell_type": "code",
   "execution_count": 1,
   "id": "29cd401c-537f-41ef-ba70-a8e6909187f6",
   "metadata": {},
   "outputs": [],
   "source": [
    "#Lista de imports\n",
    "import time\n",
    "import numpy as np\n",
    "import pandas as pd\n",
    "from scipy.linalg import solve\n",
    "from itertools import combinations\n",
    "from IPython.display import display\n",
    "from scipy.optimize import linprog, minimize\n",
    "\n",
    "def soluciones_basicas(A,b):\n",
    "    #Extaer número filas y columnas\n",
    "    n, m = A.shape\n",
    "    DifMN = m - n\n",
    "    \n",
    "    #Crear diccionario\n",
    "    diccionario = {'Solucion':[], 'Base':[]}\n",
    "\n",
    "    #Posibles conbinaciones\n",
    "    combinaciones = combinations(range(m), DifMN)\n",
    "    P_comb = set(np.array(range(m)))\n",
    "    \n",
    "    for i in list(combinaciones):\n",
    "        bP = set(i)\n",
    "        valueCom = P_comb^bP\n",
    "        \n",
    "        #Declarar matriz B\n",
    "        B = A[:, list(valueCom)]\n",
    "        \n",
    "        #Declarar matriz C\n",
    "        Solve = np.zeros(m)\n",
    "        \n",
    "        #Declarar bases\n",
    "        Base = Solve\n",
    "        BaseP = Solve\n",
    "        \n",
    "        #Solución bases\n",
    "        BaseSol = np.identity(m-DifMN)\n",
    "        \n",
    "        #Bases: C y I\n",
    "        BaseC = np.identity(m)\n",
    "        BaseI = np.identity(m)\n",
    "        \n",
    "        #Condición de frontera\n",
    "        if np.linalg.det(B) != 0:\n",
    "            mX = solve(B, b)\n",
    "            s1 = solve(BaseSol,mX)\n",
    "            \n",
    "            for j in range(m-DifMN):\n",
    "                valor = list(valueCom)[j]\n",
    "                Solve[valor] = round(mX[j],3)\n",
    "                Base[valor] = round(s1[j],3)\n",
    "                for k in range(m):\n",
    "                    if k != valor:\n",
    "                        BaseC[:,k] = BaseP\n",
    "            diccionario['Solucion'].append(Solve)\n",
    "            diccionario['Base'].append(BaseC*BaseI)\n",
    "            print(\"Hay solución para la base\")\n",
    "        else:\n",
    "            print(\"No hay soluciones para la base\")\n",
    "    return diccionario\n"
   ]
  },
  {
   "cell_type": "markdown",
   "id": "99cd53ba-1ed8-40c7-80bf-e5cebbe28090",
   "metadata": {},
   "source": [
    "**Punto 1.b**\n",
    "\n",
    "Una vez se desarrollo la función de interés, se establece los casos de prueba a analizar que están dados por  $A_{1}$ y $A_{2}$. Luego como se debe cumplir que el desterminando sea diferente de 0 para que exista una representación en mi espacio de estados se identifica que hay solución, caso contrario, no lo hay. "
   ]
  },
  {
   "cell_type": "code",
   "execution_count": 2,
   "id": "8b8348bd-0d37-4cc6-a49d-00b6469cc062",
   "metadata": {},
   "outputs": [
    {
     "name": "stdout",
     "output_type": "stream",
     "text": [
      "Análisis para A1 en todo el espectro: \n",
      "Hay solución para la base\n",
      "Hay solución para la base\n",
      "Hay solución para la base\n",
      "No hay soluciones para la base\n",
      "Hay solución para la base\n",
      "Hay solución para la base\n",
      "Hay solución para la base\n",
      "Hay solución para la base\n",
      "Hay solución para la base\n",
      "Hay solución para la base\n",
      "\n",
      "Análisis para A2 en todo el espectro: \n",
      "No hay soluciones para la base\n",
      "Hay solución para la base\n",
      "Hay solución para la base\n",
      "No hay soluciones para la base\n",
      "No hay soluciones para la base\n",
      "No hay soluciones para la base\n",
      "No hay soluciones para la base\n",
      "No hay soluciones para la base\n",
      "No hay soluciones para la base\n",
      "No hay soluciones para la base\n",
      "\n"
     ]
    },
    {
     "name": "stderr",
     "output_type": "stream",
     "text": [
      "<ipython-input-1-c58e6c440340>:45: LinAlgWarning: Ill-conditioned matrix (rcond=1.85037e-17): result may not be accurate.\n",
      "  mX = solve(B, b)\n",
      "<ipython-input-1-c58e6c440340>:45: LinAlgWarning: Ill-conditioned matrix (rcond=9.25186e-18): result may not be accurate.\n",
      "  mX = solve(B, b)\n"
     ]
    }
   ],
   "source": [
    "#Vectores de prueba\n",
    "A1 = np.array([[1, 1, 1, 1, 1],\n",
    "             [1, 2, 3, 4, 5],\n",
    "             [4, 3, 3, 3, 4]])\n",
    "\n",
    "A2 = np.array([[1, 1, 1, 1, 1],\n",
    "               [1, 2, 3, 4, 5],\n",
    "               [2, 3, 4, 5, 6]])\n",
    "\n",
    "#Vector resultado\n",
    "b = np.array([1, 2, 3])\n",
    "\n",
    "#Ejecución algoritmo\n",
    "print('Análisis para A1 en todo el espectro: ')\n",
    "prueba1 = soluciones_basicas(A1,b)\n",
    "print('')\n",
    "\n",
    "print('Análisis para A2 en todo el espectro: ')\n",
    "prueba2 = soluciones_basicas(A2,b)\n",
    "print('')"
   ]
  },
  {
   "cell_type": "markdown",
   "id": "9d8bc701-0554-4c8e-8344-409a224b7ac4",
   "metadata": {},
   "source": [
    "**Punto 1.c**\n",
    "\n",
    "Para tener una mejor representación de los datos hallados se utiliza la librería pandas para convertir el diccionario en una tabla de datos. Para $A_{1}$ se obtiene:"
   ]
  },
  {
   "cell_type": "code",
   "execution_count": 9,
   "id": "19646241-76e3-48ae-859e-9cf23fe3d6d7",
   "metadata": {},
   "outputs": [
    {
     "name": "stdout",
     "output_type": "stream",
     "text": [
      "Hay solución para la base\n",
      "Hay solución para la base\n",
      "Hay solución para la base\n",
      "No hay soluciones para la base\n",
      "Hay solución para la base\n",
      "Hay solución para la base\n",
      "Hay solución para la base\n",
      "Hay solución para la base\n",
      "Hay solución para la base\n",
      "Hay solución para la base\n",
      "\n",
      " Soluciones básicas (Matriz de rango completo): \n",
      "\n"
     ]
    },
    {
     "data": {
      "text/html": [
       "<div>\n",
       "<style scoped>\n",
       "    .dataframe tbody tr th:only-of-type {\n",
       "        vertical-align: middle;\n",
       "    }\n",
       "\n",
       "    .dataframe tbody tr th {\n",
       "        vertical-align: top;\n",
       "    }\n",
       "\n",
       "    .dataframe thead th {\n",
       "        text-align: right;\n",
       "    }\n",
       "</style>\n",
       "<table border=\"1\" class=\"dataframe\">\n",
       "  <thead>\n",
       "    <tr style=\"text-align: right;\">\n",
       "      <th></th>\n",
       "      <th>Solucion</th>\n",
       "      <th>Base</th>\n",
       "    </tr>\n",
       "  </thead>\n",
       "  <tbody>\n",
       "    <tr>\n",
       "      <th>0</th>\n",
       "      <td>[0.0, 0.0, 2.0, -1.0, -0.0]</td>\n",
       "      <td>[[0.0, 0.0, 0.0, 0.0, 0.0], [0.0, 0.0, 0.0, 0.0, 0.0], [0.0, 0.0, 2.0, 0.0, 0.0], [-0.0, -0.0, -0.0, -1.0, -0.0], [-0.0, -0.0, -0.0, -0.0, 0.0]]</td>\n",
       "    </tr>\n",
       "    <tr>\n",
       "      <th>1</th>\n",
       "      <td>[0.0, 1.0, 0.0, 0.0, -0.0]</td>\n",
       "      <td>[[0.0, 0.0, 0.0, 0.0, 0.0], [0.0, 1.0, 0.0, 0.0, 0.0], [0.0, 0.0, 0.0, 0.0, 0.0], [0.0, 0.0, 0.0, 0.0, 0.0], [-0.0, -0.0, -0.0, -0.0, 0.0]]</td>\n",
       "    </tr>\n",
       "    <tr>\n",
       "      <th>2</th>\n",
       "      <td>[0.0, 1.0, 0.0, 0.0, -0.0]</td>\n",
       "      <td>[[0.0, 0.0, 0.0, 0.0, 0.0], [0.0, 1.0, 0.0, 0.0, 0.0], [0.0, 0.0, 0.0, 0.0, 0.0], [0.0, 0.0, 0.0, 0.0, 0.0], [-0.0, -0.0, -0.0, -0.0, 0.0]]</td>\n",
       "    </tr>\n",
       "    <tr>\n",
       "      <th>3</th>\n",
       "      <td>[0.5, 0.0, 0.0, 1.0, -0.5]</td>\n",
       "      <td>[[0.5, 0.0, 0.0, 0.0, 0.0], [0.0, 0.0, 0.0, 0.0, 0.0], [0.0, 0.0, 0.0, 0.0, 0.0], [0.0, 0.0, 0.0, 1.0, 0.0], [-0.0, -0.0, -0.0, -0.0, 0.0]]</td>\n",
       "    </tr>\n",
       "    <tr>\n",
       "      <th>4</th>\n",
       "      <td>[0.25, 0.0, 1.0, 0.0, -0.25]</td>\n",
       "      <td>[[0.25, 0.0, 0.0, 0.0, 0.0], [0.0, 0.0, 0.0, 0.0, 0.0], [0.0, 0.0, 1.0, 0.0, 0.0], [0.0, 0.0, 0.0, 0.0, 0.0], [-0.0, -0.0, -0.0, -0.0, 0.0]]</td>\n",
       "    </tr>\n",
       "    <tr>\n",
       "      <th>5</th>\n",
       "      <td>[0.0, 0.0, 2.0, -1.0, 0.0]</td>\n",
       "      <td>[[0.0, 0.0, 0.0, 0.0, 0.0], [0.0, 0.0, 0.0, 0.0, 0.0], [0.0, 0.0, 2.0, 0.0, 0.0], [-0.0, -0.0, -0.0, 0.0, -0.0], [0.0, 0.0, 0.0, 0.0, 0.0]]</td>\n",
       "    </tr>\n",
       "    <tr>\n",
       "      <th>6</th>\n",
       "      <td>[0.0, 1.0, 0.0, 0.0, -0.0]</td>\n",
       "      <td>[[0.0, 0.0, 0.0, 0.0, 0.0], [0.0, 1.0, 0.0, 0.0, 0.0], [0.0, 0.0, 0.0, 0.0, 0.0], [0.0, 0.0, 0.0, 0.0, 0.0], [-0.0, -0.0, -0.0, -0.0, 0.0]]</td>\n",
       "    </tr>\n",
       "    <tr>\n",
       "      <th>7</th>\n",
       "      <td>[0.0, 1.0, 0.0, -0.0, 0.0]</td>\n",
       "      <td>[[0.0, 0.0, 0.0, 0.0, 0.0], [0.0, 1.0, 0.0, 0.0, 0.0], [0.0, 0.0, 0.0, 0.0, 0.0], [-0.0, -0.0, -0.0, 0.0, -0.0], [0.0, 0.0, 0.0, 0.0, 0.0]]</td>\n",
       "    </tr>\n",
       "    <tr>\n",
       "      <th>8</th>\n",
       "      <td>[0.0, 1.0, -0.0, 0.0, 0.0]</td>\n",
       "      <td>[[0.0, 0.0, 0.0, 0.0, 0.0], [0.0, 1.0, 0.0, 0.0, 0.0], [-0.0, -0.0, 0.0, -0.0, -0.0], [0.0, 0.0, 0.0, 0.0, 0.0], [0.0, 0.0, 0.0, 0.0, 0.0]]</td>\n",
       "    </tr>\n",
       "  </tbody>\n",
       "</table>\n",
       "</div>"
      ],
      "text/plain": [
       "                       Solucion  \\\n",
       "0   [0.0, 0.0, 2.0, -1.0, -0.0]   \n",
       "1    [0.0, 1.0, 0.0, 0.0, -0.0]   \n",
       "2    [0.0, 1.0, 0.0, 0.0, -0.0]   \n",
       "3    [0.5, 0.0, 0.0, 1.0, -0.5]   \n",
       "4  [0.25, 0.0, 1.0, 0.0, -0.25]   \n",
       "5    [0.0, 0.0, 2.0, -1.0, 0.0]   \n",
       "6    [0.0, 1.0, 0.0, 0.0, -0.0]   \n",
       "7    [0.0, 1.0, 0.0, -0.0, 0.0]   \n",
       "8    [0.0, 1.0, -0.0, 0.0, 0.0]   \n",
       "\n",
       "                                                                                                                                               Base  \n",
       "0  [[0.0, 0.0, 0.0, 0.0, 0.0], [0.0, 0.0, 0.0, 0.0, 0.0], [0.0, 0.0, 2.0, 0.0, 0.0], [-0.0, -0.0, -0.0, -1.0, -0.0], [-0.0, -0.0, -0.0, -0.0, 0.0]]  \n",
       "1       [[0.0, 0.0, 0.0, 0.0, 0.0], [0.0, 1.0, 0.0, 0.0, 0.0], [0.0, 0.0, 0.0, 0.0, 0.0], [0.0, 0.0, 0.0, 0.0, 0.0], [-0.0, -0.0, -0.0, -0.0, 0.0]]  \n",
       "2       [[0.0, 0.0, 0.0, 0.0, 0.0], [0.0, 1.0, 0.0, 0.0, 0.0], [0.0, 0.0, 0.0, 0.0, 0.0], [0.0, 0.0, 0.0, 0.0, 0.0], [-0.0, -0.0, -0.0, -0.0, 0.0]]  \n",
       "3       [[0.5, 0.0, 0.0, 0.0, 0.0], [0.0, 0.0, 0.0, 0.0, 0.0], [0.0, 0.0, 0.0, 0.0, 0.0], [0.0, 0.0, 0.0, 1.0, 0.0], [-0.0, -0.0, -0.0, -0.0, 0.0]]  \n",
       "4      [[0.25, 0.0, 0.0, 0.0, 0.0], [0.0, 0.0, 0.0, 0.0, 0.0], [0.0, 0.0, 1.0, 0.0, 0.0], [0.0, 0.0, 0.0, 0.0, 0.0], [-0.0, -0.0, -0.0, -0.0, 0.0]]  \n",
       "5       [[0.0, 0.0, 0.0, 0.0, 0.0], [0.0, 0.0, 0.0, 0.0, 0.0], [0.0, 0.0, 2.0, 0.0, 0.0], [-0.0, -0.0, -0.0, 0.0, -0.0], [0.0, 0.0, 0.0, 0.0, 0.0]]  \n",
       "6       [[0.0, 0.0, 0.0, 0.0, 0.0], [0.0, 1.0, 0.0, 0.0, 0.0], [0.0, 0.0, 0.0, 0.0, 0.0], [0.0, 0.0, 0.0, 0.0, 0.0], [-0.0, -0.0, -0.0, -0.0, 0.0]]  \n",
       "7       [[0.0, 0.0, 0.0, 0.0, 0.0], [0.0, 1.0, 0.0, 0.0, 0.0], [0.0, 0.0, 0.0, 0.0, 0.0], [-0.0, -0.0, -0.0, 0.0, -0.0], [0.0, 0.0, 0.0, 0.0, 0.0]]  \n",
       "8       [[0.0, 0.0, 0.0, 0.0, 0.0], [0.0, 1.0, 0.0, 0.0, 0.0], [-0.0, -0.0, 0.0, -0.0, -0.0], [0.0, 0.0, 0.0, 0.0, 0.0], [0.0, 0.0, 0.0, 0.0, 0.0]]  "
      ]
     },
     "metadata": {},
     "output_type": "display_data"
    }
   ],
   "source": [
    "#Se define el tamaño\n",
    "pd.set_option('max_colwidth',150)\n",
    "\n",
    "#Cálculo básicas\n",
    "sol = soluciones_basicas(A1,b)\n",
    "\n",
    "#Se imprime en consola\n",
    "df_sol = pd.DataFrame(sol)\n",
    "print('\\n Soluciones básicas (Matriz de rango completo): \\n')\n",
    "display(df_sol)"
   ]
  },
  {
   "cell_type": "markdown",
   "id": "d56c11cb-bb37-4494-a0ad-15904eafd817",
   "metadata": {
    "tags": []
   },
   "source": [
    "Mientras que para $A_{2}$ se halla que:"
   ]
  },
  {
   "cell_type": "code",
   "execution_count": 11,
   "id": "02b048a5-b2ac-4916-a7cd-4f258cdda33a",
   "metadata": {},
   "outputs": [
    {
     "name": "stdout",
     "output_type": "stream",
     "text": [
      "No hay soluciones para la base\n",
      "Hay solución para la base\n",
      "Hay solución para la base\n",
      "No hay soluciones para la base\n",
      "No hay soluciones para la base\n",
      "No hay soluciones para la base\n",
      "No hay soluciones para la base\n",
      "No hay soluciones para la base\n",
      "No hay soluciones para la base\n",
      "No hay soluciones para la base\n",
      "\n",
      " Soluciones básicas (Matriz de rango completo): \n",
      "\n"
     ]
    },
    {
     "name": "stderr",
     "output_type": "stream",
     "text": [
      "<ipython-input-1-c58e6c440340>:45: LinAlgWarning: Ill-conditioned matrix (rcond=1.85037e-17): result may not be accurate.\n",
      "  mX = solve(B, b)\n",
      "<ipython-input-1-c58e6c440340>:45: LinAlgWarning: Ill-conditioned matrix (rcond=9.25186e-18): result may not be accurate.\n",
      "  mX = solve(B, b)\n"
     ]
    },
    {
     "data": {
      "text/html": [
       "<div>\n",
       "<style scoped>\n",
       "    .dataframe tbody tr th:only-of-type {\n",
       "        vertical-align: middle;\n",
       "    }\n",
       "\n",
       "    .dataframe tbody tr th {\n",
       "        vertical-align: top;\n",
       "    }\n",
       "\n",
       "    .dataframe thead th {\n",
       "        text-align: right;\n",
       "    }\n",
       "</style>\n",
       "<table border=\"1\" class=\"dataframe\">\n",
       "  <thead>\n",
       "    <tr style=\"text-align: right;\">\n",
       "      <th></th>\n",
       "      <th>Solucion</th>\n",
       "      <th>Base</th>\n",
       "    </tr>\n",
       "  </thead>\n",
       "  <tbody>\n",
       "    <tr>\n",
       "      <th>0</th>\n",
       "      <td>[0.0, 1.0, 0.0, 0.0, -0.0]</td>\n",
       "      <td>[[0.0, 0.0, 0.0, 0.0, 0.0], [0.0, 1.0, 0.0, 0.0, 0.0], [0.0, 0.0, 0.0, 0.0, 0.0], [0.0, 0.0, 0.0, 0.0, 0.0], [-0.0, -0.0, -0.0, -0.0, 0.0]]</td>\n",
       "    </tr>\n",
       "    <tr>\n",
       "      <th>1</th>\n",
       "      <td>[0.0, 1.0, 0.0, 0.0, -0.0]</td>\n",
       "      <td>[[0.0, 0.0, 0.0, 0.0, 0.0], [0.0, 1.0, 0.0, 0.0, 0.0], [0.0, 0.0, 0.0, 0.0, 0.0], [0.0, 0.0, 0.0, 0.0, 0.0], [-0.0, -0.0, -0.0, -0.0, 0.0]]</td>\n",
       "    </tr>\n",
       "  </tbody>\n",
       "</table>\n",
       "</div>"
      ],
      "text/plain": [
       "                     Solucion  \\\n",
       "0  [0.0, 1.0, 0.0, 0.0, -0.0]   \n",
       "1  [0.0, 1.0, 0.0, 0.0, -0.0]   \n",
       "\n",
       "                                                                                                                                          Base  \n",
       "0  [[0.0, 0.0, 0.0, 0.0, 0.0], [0.0, 1.0, 0.0, 0.0, 0.0], [0.0, 0.0, 0.0, 0.0, 0.0], [0.0, 0.0, 0.0, 0.0, 0.0], [-0.0, -0.0, -0.0, -0.0, 0.0]]  \n",
       "1  [[0.0, 0.0, 0.0, 0.0, 0.0], [0.0, 1.0, 0.0, 0.0, 0.0], [0.0, 0.0, 0.0, 0.0, 0.0], [0.0, 0.0, 0.0, 0.0, 0.0], [-0.0, -0.0, -0.0, -0.0, 0.0]]  "
      ]
     },
     "metadata": {},
     "output_type": "display_data"
    }
   ],
   "source": [
    "#Se define el tamaño\n",
    "pd.set_option('max_colwidth',150)\n",
    "\n",
    "#Cálculo básicas\n",
    "sol = soluciones_basicas(A2,b)\n",
    "\n",
    "#Se imprime en consola\n",
    "df_sol = pd.DataFrame(sol)\n",
    "print('\\n Soluciones básicas (Matriz de rango completo): \\n')\n",
    "display(df_sol)"
   ]
  },
  {
   "cell_type": "markdown",
   "id": "240b4bfc-2398-40b9-bf16-c836e34c82ca",
   "metadata": {},
   "source": [
    "**Análisis**\n",
    "\n",
    "Partiendo de los resultados mostrados anteriormente, vemos que la mayor diferencia se centra en que en el primer caso de análisis hay un mayor rango, pues la solución se encuentra en 9 de sus 10 matrices combinadas. Mientras que al analizar el segundo caso notamos que el rango es considerablemente menor puesto que se encuentran en tan solo 2 de las 10 matrices combinadas."
   ]
  }
 ],
 "metadata": {
  "kernelspec": {
   "display_name": "Python 3",
   "language": "python",
   "name": "python3"
  },
  "language_info": {
   "codemirror_mode": {
    "name": "ipython",
    "version": 3
   },
   "file_extension": ".py",
   "mimetype": "text/x-python",
   "name": "python",
   "nbconvert_exporter": "python",
   "pygments_lexer": "ipython3",
   "version": "3.8.8"
  }
 },
 "nbformat": 4,
 "nbformat_minor": 5
}
