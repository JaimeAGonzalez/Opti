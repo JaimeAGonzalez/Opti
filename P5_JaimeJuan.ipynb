{
 "cells": [
  {
   "cell_type": "markdown",
   "metadata": {
    "id": "Q9AdNTfAzlMB"
   },
   "source": [
    "# Práctica 5: Implementación de Simplex"
   ]
  },
  {
   "cell_type": "markdown",
   "metadata": {
    "id": "-x-xB_2MtB9I"
   },
   "source": [
    "## Librerias"
   ]
  },
  {
   "cell_type": "code",
   "execution_count": 2,
   "metadata": {
    "id": "HydFmu4uzaOn"
   },
   "outputs": [],
   "source": [
    "import numpy as np"
   ]
  },
  {
   "cell_type": "markdown",
   "metadata": {
    "id": "MdKw9C_Czqki"
   },
   "source": [
    "## Simplex\n",
    "\n",
    "Función donde se implementa el algoritmo Simplex para optimización de problemas de programación lineal en la forma estandar.\n",
    "\n",
    "* El código fue adapatado de: https://github.com/mmolteratx/Simplex\n",
    "\n"
   ]
  },
  {
   "cell_type": "code",
   "execution_count": null,
   "metadata": {
    "id": "kTLMg3HDEqLD"
   },
   "outputs": [],
   "source": [
    "# ------------------------------------------------------------------\n",
    "#                      Funciones Auxiliares\n",
    "# ------------------------------------------------------------------\n",
    "\n",
    "def printTableau(tableau, f):\n",
    "  \n",
    "    f = f[np.nonzero(f)]\n",
    "    print(\"ind \\t\", end = \"\")\n",
    "    for j in range(0, len(f)):\n",
    "        print(\"x_\" + str(j), end = \"\\t\")\n",
    "    for j in range(0, (len(tableau[0]) - len(f) - 2)):\n",
    "        print(\"s_\" + str(j), end = \"\\t\")\n",
    "    \n",
    "    print()\n",
    "    for j in range(0, len(tableau)):\n",
    "        for i in range(0, len(tableau[0])):\n",
    "            if(not np.isnan(tableau[j, i])):\n",
    "                if(i == 0):\n",
    "                    print(int(tableau[j, i]), end = \"\\t\")\n",
    "                else:\n",
    "                    print(round(tableau[j, i], 2), end = \"\\t\")\n",
    "            else:\n",
    "                print(end = \"\\t\")\n",
    "        print()\n",
    "\n",
    "def getTableau(c, A, b):\n",
    "  # Construct starting tableau\n",
    "  c[0:len(c)] = -1 * c[0:len(c)]\n",
    "\n",
    "  t2 = np.array([None, 0])\n",
    "  numVar = len(c)\n",
    "  numSlack = len(A)\n",
    "    \n",
    "  t2 = np.hstack(([None], c, [0]))\n",
    "  \n",
    "  basis = np.array([0] * numSlack)\n",
    "  \n",
    "  for i in range(0, len(basis)):\n",
    "      basis[i] = numVar + i\n",
    "      \n",
    "  t1 = np.hstack((np.transpose([basis]), A, np.transpose([b])))\n",
    "  \n",
    "  tableau = np.vstack((t1, t2))\n",
    "  \n",
    "  tableau = np.array(tableau, dtype ='float')\n",
    "  \n",
    "  return tableau\n",
    "\n",
    "# ------------------------------------------------------------------\n",
    "#                      Funcion Simplex\n",
    "# ------------------------------------------------------------------\n",
    "\n",
    "def simplex(f, A, b, print_iter=True):\n",
    "  for i in range(len(f)):\n",
    "    f[i] = -1 * f[i]\n",
    "    \n",
    "  # Build Tableu\n",
    "  tableau = getTableau(f, A, b)\n",
    "      \n",
    "  if(print_iter):\n",
    "      print(\"Starting Tableau:\")\n",
    "      printTableau(tableau, f)\n",
    "  \n",
    "  # Assume initial basis is not optimal\n",
    "  optimal = False\n",
    "\n",
    "  # Keep track of iterations for display\n",
    "  iter = 1\n",
    "\n",
    "  while not optimal:\n",
    "      \n",
    "    if print_iter:\n",
    "      print(\"--------------------------------------------------------------\")\n",
    "      print(\"ITERATION \", iter)\n",
    "      printTableau(tableau, f)\n",
    "        \n",
    "    # Look for direction of decreased cost\n",
    "    for cost in tableau[-1, 1:-1]:\n",
    "      if cost < 0:\n",
    "        optimal = False\n",
    "        break\n",
    "      optimal = True\n",
    "\n",
    "    # If all directions result in decreased cost SBF is optimal\n",
    "    if optimal: \n",
    "      break\n",
    "      \n",
    "    # nth variable enters basis, account for tableau indexing\n",
    "    n = tableau[-1, 1:-1].tolist().index(np.amin(tableau[-1, 1:-1])) + 1 # PUEDE QUE NO SEA 2\n",
    "\n",
    "    # Minimum ratio test, rth variable leaves basis \n",
    "    minimum = 99999\n",
    "    r = -1\n",
    "    \n",
    "    for i in range(0, len(tableau)-1): \n",
    "      if (tableau[i, n] > 0):\n",
    "        val = tableau[i, -1]/tableau[i, n]\n",
    "        if val<minimum: \n",
    "          minimum = val \n",
    "          r = i\n",
    "                    \n",
    "    pivot = tableau[r, n] \n",
    "    \n",
    "    print(\"Pivot Column:\", n)\n",
    "    print(\"Pivot Row:\", r)\n",
    "    print(\"Pivot Element: \", pivot)\n",
    "\n",
    "    # Perform row operations \n",
    "    # Divide the pivot row with the pivot element \n",
    "    tableau[r, 1:] = tableau[r, 1:] / pivot \n",
    "    \n",
    "    # Pivot other rows\n",
    "    for i in range(0, len(tableau)): \n",
    "      if i != r:\n",
    "        mult = tableau[i, n] / tableau[r, n]\n",
    "        tableau[i, 1:] = tableau[i, 1:] - mult * tableau[r, 1:] \n",
    "\n",
    "    # New basic variable \n",
    "    tableau[r, 0] = n - 1\n",
    "    iter += 1\n",
    "      \n",
    "  if print_iter:\n",
    "    print(\"--------------------------------------------------------------\")\n",
    "    print(\"Final Tableau reached in\", iter, \"iterations\")\n",
    "    printTableau(tableau, f)\n",
    "  else:\n",
    "      print(\"Solved\")\n",
    "      \n",
    "  x = np.array([0] * len(f), dtype = float)\n",
    "  # Save coefficients\n",
    "  for key in range(0, (len(tableau))):\n",
    "      if (tableau[key, 0] < len(f)):\n",
    "          x[int(tableau[key, 0])] = tableau[key, -1]\n",
    "  \n",
    "  optimalValue = -1 * tableau[-1,-1]\n",
    "\n",
    "  print(\"--------------------------------------------------------------\")\n",
    "  print(\"SOLUTION: \")\n",
    "  print(\"Fobj Optimal Value: \" + str(optimalValue))\n",
    "  print(\"Solution: \" + str(x))"
   ]
  },
  {
   "cell_type": "markdown",
   "metadata": {},
   "source": [
    "**Explicación del algoritmo**\n",
    "\n",
    "<br>\n",
    "\n",
    "El algoritmo Simplex es un método usado en la optimización para resolver problemas de programación lineal. En primera instancia, se construye una tabla mediante la función *getTableau(c, A, b)*. Nótese que en esta función en las columnas se tiene en cuenta la inclusión de las variables de holgura, por lo que se extrae el respectivo coeficiente para garantizar la restricción dada por el problema. Mientras que en cada fila se ve las ecuaciones de análisis más la función de costos a minimizar o maximizar. \n",
    "\n",
    "\n",
    "<br>\n",
    "\n",
    "Posteriormente, luego de haber definido los coeficientes en cada casilla, se definen dos condiciones iniciales para el algoritmo: la primera es establecer un tipo de bandera que determina cuando la solución es óptima o no (variable *optimal*), esta se establece inicialmente en *False*, mientras que la segunda es la iteración en la que el algoritmo se encuentra (variable *iter*), esta se establece en 1. Este algoritmo se basa en la iteración por lo que solo debe ser ejecutado cuando no se pueda mejorar la solución (no se pueda minimizar más), es por esto que se usa un *while not optimal*, es decir, solo se ejecuta el contenido posterior mientras la variable *optimal* sea igual a *False*. Uno de los puntos relevantes de este algoritmo se ve en que se revisa el valor de los coeficientes de la función de costo para saber la dirección de sus valores, como en esta primera etapa se tienen valores negativos, se sabe que el algoritmo está en su etapa inicial y que su solución no es óptima. Como resultado, se revisa la columna pivote (aquella que posee la menor magnitud de la función Z) y se identifica la fila pivote (aquella fila que tenga el menor valor luego de dividir el coeficiente de la restricción con respecto al valor de la variable de la columna pivote). Como resultado, el elemento pivote es la intersección entre la columna y fila pivote. Se reemplaza los valores de la fila pivote por los valores de la fila entrante, que es la fila pivote dividida por el elemento pivote, mientras que el resto de filas sus valores se basan en: $Fila_{Vieja}-Coeficiente_{PivoteFila}*Fila_{Entrante}$. Cuando se finaliza, su suma en la variable *iter* un 1 para indicar que ya se culminó la iteración previa. \n",
    "\n",
    "<br>\n",
    "\n",
    "Cabe resaltar que este procedimiento se repite hasta que en la función Z no exista un valor negativo, esto se verifica con un recorrido de la función Z en Tableau. Si existe un valor negativo se repite el algoritmo anterior, de lo contrario, se ejecuta un break y se establece que la variable *optimal* es True. Como todo se encuentra dentro de un while que itera mientras que la variable *optimal* sea False, el algoritmo deja de ejecutarse. Nótese que el valor óptimo se basa en evaluar en la última función de costo Z (con los nuevos coeficientes), el valor de las variables de holgura correspondiente a cada ecuación. Los coeficientes de restricción vienen a ser los valores resultantes de la solución a cada variable. Para finalizar en el algoritmo se realiza diferentes prints: para cada iteración se muestra la tabla resultante junto al elemento, fila y columna pivote. Además, se muestra el valor óptimo y la solución de cada variables.\n"
   ]
  },
  {
   "cell_type": "markdown",
   "metadata": {
    "id": "j5CwO0_g2_mP"
   },
   "source": [
    "\n",
    "##  Problema a)\n"
   ]
  },
  {
   "cell_type": "markdown",
   "metadata": {
    "id": "T6lfI_GsxSyH"
   },
   "source": [
    "Problema:\n",
    "$$ \\max f(x) = (10.000-200*10-18*70) x_1 + (8.000-200*10-18*70) x_2 $$\n",
    "\n",
    "$$ \\begin{array}{rl}\n",
    "  200x_1 + 150x_2 & \\leq 80.000 \\\\\n",
    "  18x_1 + 20x_2 & \\leq 9.000 \\\\\n",
    "  x_1 & \\leq 1500 \\\\\n",
    "  x_2 & \\leq 200 \\\\\n",
    "  x_1,x_2 & \\geq 0 \\\\\n",
    " \\end{array}$$\n",
    "\n",
    " Forma Estándar:\n",
    " $$ \\min f(x) = -6740 x_1 - 5100 x_2  $$\n",
    "\n",
    "$$ \\begin{array}{rl}\n",
    "  200x_1 + 150x_2  + s_1 & = 80.000 \\\\\n",
    "  18x_1 + 20x_2 + s_2 &= 9.000 \\\\\n",
    "  x_1 + s_3 = 1500 \\\\\n",
    "  x_2 + s_4 = 200 \\\\\n",
    "  x_1,x_2 & \\geq 0 \\\\\n",
    " \\end{array}$$"
   ]
  },
  {
   "cell_type": "code",
   "execution_count": 7,
   "metadata": {
    "colab": {
     "base_uri": "https://localhost:8080/"
    },
    "id": "QFgUuowKUiy6",
    "outputId": "683f9631-2aea-46f4-db76-0dfa3af2c2dc"
   },
   "outputs": [
    {
     "name": "stdout",
     "output_type": "stream",
     "text": [
      "Starting Tableau:\n",
      "ind \tx_0\tx_1\ts_0\ts_1\ts_2\ts_3\t\n",
      "6\t200.0\t150.0\t1.0\t0.0\t0.0\t0.0\t80000.0\t\n",
      "7\t18.0\t20.0\t0.0\t1.0\t0.0\t0.0\t9000.0\t\n",
      "8\t1.0\t0.0\t0.0\t0.0\t1.0\t0.0\t1500.0\t\n",
      "9\t0.0\t1.0\t0.0\t0.0\t0.0\t1.0\t200.0\t\n",
      "\t-6740.0\t-5100.0\t0.0\t0.0\t0.0\t0.0\t0.0\t\n",
      "--------------------------------------------------------------\n",
      "ITERATION  1\n",
      "ind \tx_0\tx_1\ts_0\ts_1\ts_2\ts_3\t\n",
      "6\t200.0\t150.0\t1.0\t0.0\t0.0\t0.0\t80000.0\t\n",
      "7\t18.0\t20.0\t0.0\t1.0\t0.0\t0.0\t9000.0\t\n",
      "8\t1.0\t0.0\t0.0\t0.0\t1.0\t0.0\t1500.0\t\n",
      "9\t0.0\t1.0\t0.0\t0.0\t0.0\t1.0\t200.0\t\n",
      "\t-6740.0\t-5100.0\t0.0\t0.0\t0.0\t0.0\t0.0\t\n",
      "Pivot Column: 1\n",
      "Pivot Row: 0\n",
      "Pivot Element:  200.0\n",
      "--------------------------------------------------------------\n",
      "ITERATION  2\n",
      "ind \tx_0\tx_1\ts_0\ts_1\ts_2\ts_3\t\n",
      "0\t1.0\t0.75\t0.0\t0.0\t0.0\t0.0\t400.0\t\n",
      "7\t0.0\t6.5\t-0.09\t1.0\t0.0\t0.0\t1800.0\t\n",
      "8\t0.0\t-0.75\t-0.0\t0.0\t1.0\t0.0\t1100.0\t\n",
      "9\t0.0\t1.0\t0.0\t0.0\t0.0\t1.0\t200.0\t\n",
      "\t0.0\t-45.0\t33.7\t0.0\t0.0\t0.0\t2696000.0\t\n",
      "Pivot Column: 2\n",
      "Pivot Row: 3\n",
      "Pivot Element:  1.0\n",
      "--------------------------------------------------------------\n",
      "ITERATION  3\n",
      "ind \tx_0\tx_1\ts_0\ts_1\ts_2\ts_3\t\n",
      "0\t1.0\t0.0\t0.0\t0.0\t0.0\t-0.75\t250.0\t\n",
      "7\t0.0\t0.0\t-0.09\t1.0\t0.0\t-6.5\t500.0\t\n",
      "8\t0.0\t0.0\t-0.0\t0.0\t1.0\t0.75\t1250.0\t\n",
      "1\t0.0\t1.0\t0.0\t0.0\t0.0\t1.0\t200.0\t\n",
      "\t0.0\t0.0\t33.7\t0.0\t0.0\t45.0\t2705000.0\t\n",
      "--------------------------------------------------------------\n",
      "Final Tableau reached in 3 iterations\n",
      "ind \tx_0\tx_1\ts_0\ts_1\ts_2\ts_3\t\n",
      "0\t1.0\t0.0\t0.0\t0.0\t0.0\t-0.75\t250.0\t\n",
      "7\t0.0\t0.0\t-0.09\t1.0\t0.0\t-6.5\t500.0\t\n",
      "8\t0.0\t0.0\t-0.0\t0.0\t1.0\t0.75\t1250.0\t\n",
      "1\t0.0\t1.0\t0.0\t0.0\t0.0\t1.0\t200.0\t\n",
      "\t0.0\t0.0\t33.7\t0.0\t0.0\t45.0\t2705000.0\t\n",
      "--------------------------------------------------------------\n",
      "SOLUTION: \n",
      "Fobj Optimal Value: -2705000.0\n",
      "Solution: [250. 200.   0.   0.   0.   0.]\n"
     ]
    }
   ],
   "source": [
    "# Probar función\n",
    "f1 = np.array([-6740, -5100, 0, 0, 0, 0])\n",
    "A1 = np.array([[200, 150, 1, 0, 0, 0], [18, 20, 0, 1, 0, 0], [1, 0, 0, 0, 1, 0], [0, 1, 0, 0, 0, 1]])\n",
    "b1 = np.array([80000, 9000, 1500, 200])\n",
    "\n",
    "simplex(f1,A1,b1)"
   ]
  },
  {
   "cell_type": "markdown",
   "metadata": {
    "id": "oGJgZkoGTL15"
   },
   "source": [
    "##  Problema b)"
   ]
  },
  {
   "cell_type": "markdown",
   "metadata": {
    "id": "N4ZrAojXTSXt"
   },
   "source": [
    "Problema:\n",
    "$$ \\max f(x) = 1.1 x_1 + 1.0 x_2 + 0.9 x_3 + 0.92 x_4 + 1.2 x_5 $$\n",
    "\n",
    "$$ \\begin{array}{rl}\n",
    "  0.45x_1 + 0.5x_2 + 0.4x_3 + 0.4x_4 + 0.42x_5 & \\leq 240 \\\\\n",
    "  0.5x_1 + 0.4x_2 + 0.4x_3 + 0.4x_4 + 0.2x_5 & \\leq 190 \\\\\n",
    "  0.1x_1 + 0.15x_2 + 0.3x_3 + 0.2x_4 + 0.1x_5 & \\leq 80 \\\\\n",
    "  x_1,x_2,x_3,x_4,x_5 & \\geq 0 \\\\\n",
    " \\end{array}$$\n",
    "\n",
    " Forma Estándar:\n",
    " $$ \\min f(x) = -1.1 x_1 - 1.0 x_2 - 0.9 x_3 - 0.92 x_4 - 1.2 x_5  $$\n",
    "\n",
    "$$ \\begin{array}{rl}\n",
    "  0.45x_1 + 0.5x_2 + 0.4x_3 + 0.4x_4 + 0.42x_5 + s_1 & = 240 \\\\\n",
    "  0.5x_1 + 0.4x_2 + 0.4x_3 + 0.4x_4 + 0.2x_5 + s_2 & = 190 \\\\\n",
    "  0.1x_1 + 0.15x_2 + 0.3x_3 + 0.2x_4 + 0.1x_5 + s_3 & =80 \\\\\n",
    "  x_1,x_2,x_3,x_4,x_5 & \\geq 0 \\\\\n",
    " \\end{array}$$"
   ]
  },
  {
   "cell_type": "code",
   "execution_count": 8,
   "metadata": {
    "colab": {
     "base_uri": "https://localhost:8080/"
    },
    "id": "0eNkSyoOXTPi",
    "outputId": "d730c046-6502-4af5-b599-3c7ecd180ebb"
   },
   "outputs": [
    {
     "name": "stdout",
     "output_type": "stream",
     "text": [
      "Starting Tableau:\n",
      "ind \tx_0\tx_1\tx_2\tx_3\tx_4\ts_0\ts_1\ts_2\t\n",
      "8\t0.45\t0.5\t0.4\t0.4\t0.42\t1.0\t0.0\t0.0\t240.0\t\n",
      "9\t0.5\t0.4\t0.4\t0.4\t0.2\t0.0\t1.0\t0.0\t190.0\t\n",
      "10\t0.1\t0.15\t0.3\t0.2\t0.1\t0.0\t0.0\t1.0\t80.0\t\n",
      "\t-1.1\t-1.0\t-0.9\t-0.92\t-1.2\t0.0\t0.0\t0.0\t0.0\t\n",
      "--------------------------------------------------------------\n",
      "ITERATION  1\n",
      "ind \tx_0\tx_1\tx_2\tx_3\tx_4\ts_0\ts_1\ts_2\t\n",
      "8\t0.45\t0.5\t0.4\t0.4\t0.42\t1.0\t0.0\t0.0\t240.0\t\n",
      "9\t0.5\t0.4\t0.4\t0.4\t0.2\t0.0\t1.0\t0.0\t190.0\t\n",
      "10\t0.1\t0.15\t0.3\t0.2\t0.1\t0.0\t0.0\t1.0\t80.0\t\n",
      "\t-1.1\t-1.0\t-0.9\t-0.92\t-1.2\t0.0\t0.0\t0.0\t0.0\t\n",
      "Pivot Column: 5\n",
      "Pivot Row: 0\n",
      "Pivot Element:  0.42\n",
      "--------------------------------------------------------------\n",
      "ITERATION  2\n",
      "ind \tx_0\tx_1\tx_2\tx_3\tx_4\ts_0\ts_1\ts_2\t\n",
      "4\t1.07\t1.19\t0.95\t0.95\t1.0\t2.38\t0.0\t0.0\t571.43\t\n",
      "9\t0.29\t0.16\t0.21\t0.21\t0.0\t-0.48\t1.0\t0.0\t75.71\t\n",
      "10\t-0.01\t0.03\t0.2\t0.1\t0.0\t-0.24\t0.0\t1.0\t22.86\t\n",
      "\t0.19\t0.43\t0.24\t0.22\t0.0\t2.86\t0.0\t0.0\t685.71\t\n",
      "--------------------------------------------------------------\n",
      "Final Tableau reached in 2 iterations\n",
      "ind \tx_0\tx_1\tx_2\tx_3\tx_4\ts_0\ts_1\ts_2\t\n",
      "4\t1.07\t1.19\t0.95\t0.95\t1.0\t2.38\t0.0\t0.0\t571.43\t\n",
      "9\t0.29\t0.16\t0.21\t0.21\t0.0\t-0.48\t1.0\t0.0\t75.71\t\n",
      "10\t-0.01\t0.03\t0.2\t0.1\t0.0\t-0.24\t0.0\t1.0\t22.86\t\n",
      "\t0.19\t0.43\t0.24\t0.22\t0.0\t2.86\t0.0\t0.0\t685.71\t\n",
      "--------------------------------------------------------------\n",
      "SOLUTION: \n",
      "Fobj Optimal Value: -685.7142857142857\n",
      "Solution: [  0.           0.           0.           0.         571.42857143\n",
      "   0.           0.           0.        ]\n"
     ]
    }
   ],
   "source": [
    "# Probar función\n",
    "f2 = np.array([-1.1, -1.0, -0.9, -0.92, -1.2, 0, 0, 0])\n",
    "A2 = np.array([[0.45, 0.5, 0.4, 0.4, 0.42, 1, 0, 0], [0.5, 0.4, 0.4, 0.4, 0.2, 0, 1, 0], [0.1, 0.15, 0.3, 0.2, 0.1, 0, 0, 1]])\n",
    "b2 = np.array([240, 190, 80])\n",
    "\n",
    "simplex(f2,A2,b2)"
   ]
  }
 ],
 "metadata": {
  "colab": {
   "collapsed_sections": [],
   "provenance": []
  },
  "kernelspec": {
   "display_name": "Python 3",
   "language": "python",
   "name": "python3"
  },
  "language_info": {
   "codemirror_mode": {
    "name": "ipython",
    "version": 3
   },
   "file_extension": ".py",
   "mimetype": "text/x-python",
   "name": "python",
   "nbconvert_exporter": "python",
   "pygments_lexer": "ipython3",
   "version": "3.8.8"
  }
 },
 "nbformat": 4,
 "nbformat_minor": 4
}
