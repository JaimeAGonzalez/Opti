{
 "cells": [
  {
   "cell_type": "markdown",
   "id": "f13375ac-799f-431e-a4f9-4953432ee46d",
   "metadata": {},
   "source": [
    "**Punto 1**\n",
    "\n",
    "Implementación de la función *multiplicación matricial* en base a valores parametrizados. Adicionalmente se generaron arreglos de prueba para corroborar el correcto funcionamiento de esta función."
   ]
  },
  {
   "cell_type": "code",
   "execution_count": 1,
   "id": "af254f03-c353-4c3a-8cd8-22c22cc00bee",
   "metadata": {},
   "outputs": [
    {
     "name": "stdout",
     "output_type": "stream",
     "text": [
      "[[  93  291   95]\n",
      " [ 108  432   72]\n",
      " [ 648 1863  729]\n",
      " [ 153  531  135]]\n"
     ]
    }
   ],
   "source": [
    "import numpy as np\n",
    "\n",
    "#Punto 1: Función multiplicación matricial\n",
    "def f(A,B,c,d):\n",
    "    k1=A**c\n",
    "    k2=B**d\n",
    "    result='No se puede ejecutar la operación'\n",
    "    \n",
    "    if (k1.shape[1]==k2.shape[0]):\n",
    "        result=np.dot(k1,k2)\n",
    "        return result\n",
    "    else:\n",
    "        return result\n",
    "    \n",
    "#Valores aleatorios de prueba\n",
    "A=np.random.randint(10, size=(4,2))\n",
    "A=np.array(A)\n",
    "\n",
    "B=np.random.randint(15, size=(2,3))\n",
    "B=np.array(B)\n",
    "\n",
    "exp=np.array([2,1])\n",
    "\n",
    "print(f(A,B,exp[0],exp[1]))"
   ]
  },
  {
   "cell_type": "markdown",
   "id": "4eb9e1fa-90fe-42c3-b230-a32ea532d935",
   "metadata": {},
   "source": [
    "**Punto 2.1**\n",
    "\n",
    "A partir de la función desarrollada y valores caraterísticos para *(A,B,c,d)* se lleva a cabo las operaciones matriciales solicitadas."
   ]
  },
  {
   "cell_type": "code",
   "execution_count": 2,
   "id": "1729f3ca-955b-4d39-aa40-41071701889a",
   "metadata": {},
   "outputs": [
    {
     "name": "stdout",
     "output_type": "stream",
     "text": [
      "i=  No se puede ejecutar la operación\n",
      "ii=  [[16.01 20.02 24.03]\n",
      " [ 4.04  8.05 12.06]]\n",
      "iii=  No se puede ejecutar la operación\n",
      "iv=  [[38.58024691  0.98765432]\n",
      " [54.01234568  1.38271605]\n",
      " [69.44444444  1.77777778]]\n"
     ]
    }
   ],
   "source": [
    "A=[[0.1,2],[2,0.1]]\n",
    "A=np.array(A)\n",
    "\n",
    "B=[[1,2,3],[4,5,6]]\n",
    "B=np.array(B)\n",
    "\n",
    "C=[[5/3,2/3],[5/3,2/3]]\n",
    "C=np.array(C)\n",
    "\n",
    "i=f(A,np.transpose(B),1,1)\n",
    "print('i= ',i)\n",
    "\n",
    "ii=f(A,B,2,1)\n",
    "print('ii= ',ii)\n",
    "\n",
    "iii=f(B,C,1,3)\n",
    "print('iii= ',iii)\n",
    "\n",
    "iv=f(np.transpose(B),C,1,4)\n",
    "print('iv= ',iv)"
   ]
  },
  {
   "cell_type": "markdown",
   "id": "f2eb482f-aeee-42e3-9778-0b52302f065a",
   "metadata": {},
   "source": [
    "**Punto 2.2**\n",
    "\n",
    "Se desarrolla un código que permite al usuario digitar el valor numérico entero *(c,d)* que se solicita en la función *f*. "
   ]
  },
  {
   "cell_type": "code",
   "execution_count": 3,
   "id": "66b144bd-c9f7-4df1-851a-b47365fe7b69",
   "metadata": {},
   "outputs": [
    {
     "name": "stdin",
     "output_type": "stream",
     "text": [
      "Introduzca un valor numérico:  2\n",
      "Introduzca un valor numérico:  %\n"
     ]
    },
    {
     "name": "stdout",
     "output_type": "stream",
     "text": [
      "Debe ser un valor numérico\n"
     ]
    },
    {
     "name": "stdin",
     "output_type": "stream",
     "text": [
      "Introduzca un valor numérico:  1\n"
     ]
    },
    {
     "name": "stdout",
     "output_type": "stream",
     "text": [
      "[[16.01 20.02 24.03]\n",
      " [ 4.04  8.05 12.06]]\n"
     ]
    }
   ],
   "source": [
    "flag=[0,0]\n",
    "while flag[0]==0:\n",
    "    try:\n",
    "        c=float(input('Introduzca un valor numérico: ')) \n",
    "        flag[0]=1\n",
    "    except ValueError:\n",
    "        print('Debe ser un valor numérico')\n",
    "\n",
    "while flag[1]==0:\n",
    "    try:\n",
    "        d=float(input('Introduzca un valor numérico: ')) \n",
    "        flag[1]=1\n",
    "    except ValueError:\n",
    "        print('Debe ser un valor numérico')\n",
    "        \n",
    "print(f(A,B,c,d))"
   ]
  },
  {
   "cell_type": "markdown",
   "id": "6bae9d6a-031e-4b3f-9e4a-2206d4b4dd26",
   "metadata": {},
   "source": [
    "**Punto 3**\n",
    "\n",
    "Partiendo de una matriz numérica definida como *A* se determina las matrices obtenidas según operaciones sucesivas. "
   ]
  },
  {
   "cell_type": "code",
   "execution_count": 5,
   "id": "e04ae87a-f910-441c-8ad6-b409babff1da",
   "metadata": {},
   "outputs": [
    {
     "name": "stdout",
     "output_type": "stream",
     "text": [
      "Multiplicando la fila 1 de A por 1/4 da como resultado:  [[ 0.75  0.5   0.5 ]\n",
      " [-2.    1.    4.  ]\n",
      " [ 1.    0.    3.  ]\n",
      " [ 5.   -2.    1.  ]]\n",
      "Sumando 3 veces la fila 1 del nuevo A a la fila 2:  [[ 0.75  0.5   0.5 ]\n",
      " [ 0.25  2.5   5.5 ]\n",
      " [ 1.    0.    3.  ]\n",
      " [ 5.   -2.    1.  ]]\n",
      "Sumando (-1) veces la fila 1 del nuevo A a la fila 3:  [[ 0.75  0.5   0.5 ]\n",
      " [ 0.25  2.5   5.5 ]\n",
      " [ 0.25 -0.5   2.5 ]\n",
      " [ 5.   -2.    1.  ]]\n",
      "Sumando (-5) veces la fila 1 del nuevo A a la fila 4:  [[ 0.75  0.5   0.5 ]\n",
      " [ 0.25  2.5   5.5 ]\n",
      " [ 0.25 -0.5   2.5 ]\n",
      " [ 1.25 -4.5  -1.5 ]]\n",
      "Intercambiar filas 2 y 4:  [[ 0.75  0.5   0.5 ]\n",
      " [ 1.25 -4.5  -1.5 ]\n",
      " [ 0.25 -0.5   2.5 ]\n",
      " [ 0.25  2.5   5.5 ]]\n"
     ]
    }
   ],
   "source": [
    "A=[[3,2,2],[-2,1,4],[1,0,3],[5,-2,1]]\n",
    "A=np.array(A)\n",
    "\n",
    "#Caso 1\n",
    "op1=np.array(A[0][:]*1/4)\n",
    "R1=np.vstack([op1,A[1:][:]])\n",
    "print('Multiplicando la fila 1 de A por 1/4 da como resultado: ',R1)\n",
    "\n",
    "#Caso 2\n",
    "R2=R1\n",
    "R2[1][:]=np.add((R2[0][:]*3),R2[1][:])\n",
    "print('Sumando 3 veces la fila 1 del nuevo A a la fila 2: ',R2)\n",
    "\n",
    "#Caso 3\n",
    "R3=R2\n",
    "R3[2][:]=np.add(np.negative(R3[0][:]),R3[2][:])\n",
    "print('Sumando (-1) veces la fila 1 del nuevo A a la fila 3: ',R3)\n",
    "\n",
    "#Caso 4\n",
    "R4=R3\n",
    "R4[3][:]=np.add(np.negative(R3[0][:]*5),R3[3][:])\n",
    "print('Sumando (-5) veces la fila 1 del nuevo A a la fila 4: ',R4)\n",
    "\n",
    "#Caso 5\n",
    "R5=R4\n",
    "R5[[1,3]]=R5[[3,1]]\n",
    "print('Intercambiar filas 2 y 4: ',R4)\n"
   ]
  },
  {
   "cell_type": "code",
   "execution_count": null,
   "id": "8c81ba42-12f0-47d8-9b7b-15134d7cc6ff",
   "metadata": {},
   "outputs": [],
   "source": []
  },
  {
   "cell_type": "code",
   "execution_count": null,
   "id": "39e06ad7-383f-4efa-8437-d19e71519ca2",
   "metadata": {},
   "outputs": [],
   "source": []
  },
  {
   "cell_type": "code",
   "execution_count": null,
   "id": "06983e2d-76c1-4b34-b00c-517a61030c04",
   "metadata": {},
   "outputs": [],
   "source": []
  }
 ],
 "metadata": {
  "kernelspec": {
   "display_name": "Python 3",
   "language": "python",
   "name": "python3"
  },
  "language_info": {
   "codemirror_mode": {
    "name": "ipython",
    "version": 3
   },
   "file_extension": ".py",
   "mimetype": "text/x-python",
   "name": "python",
   "nbconvert_exporter": "python",
   "pygments_lexer": "ipython3",
   "version": "3.8.8"
  }
 },
 "nbformat": 4,
 "nbformat_minor": 5
}
